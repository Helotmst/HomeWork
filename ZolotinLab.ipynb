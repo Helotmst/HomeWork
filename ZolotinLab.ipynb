{
 "cells": [
  {
   "cell_type": "markdown",
   "metadata": {},
   "source": [
    "Списки и строки – одни из важных начальных понятий для любого дата сайентиста, поскольку на знании принципов работы с\n",
    "ними строится работа с препроцессингом и обработкой данных в python в целом и работы с модулем pandas в\n",
    "частности:"
   ]
  },
  {
   "cell_type": "markdown",
   "metadata": {},
   "source": [
    "1.1 Дан произвольный список, содержащий только числа. Выведите результат сложения всех чисел больше 10."
   ]
  },
  {
   "cell_type": "code",
   "execution_count": 5,
   "metadata": {},
   "outputs": [
    {
     "data": {
      "text/plain": [
       "135"
      ]
     },
     "execution_count": 5,
     "metadata": {},
     "output_type": "execute_result"
    }
   ],
   "source": [
    "list_ = range(20)\n",
    "sum_=0\n",
    "for el in list_:\n",
    "    if el>10:\n",
    "        sum_=sum_+el\n",
    "sum_"
   ]
  },
  {
   "cell_type": "markdown",
   "metadata": {},
   "source": [
    "1.2 Пусть задан список, содержащий строки. Выведите все строки, заканчивающиеся буквой r."
   ]
  },
  {
   "cell_type": "code",
   "execution_count": 14,
   "metadata": {},
   "outputs": [
    {
     "data": {
      "text/plain": [
       "['rubikor', 'honor', 'gear', 'my lor']"
      ]
     },
     "execution_count": 14,
     "metadata": {},
     "output_type": "execute_result"
    }
   ],
   "source": [
    "descriptions = ['браслет', 'xiaomi', 'mi', 'band', '2.', 'умный', 'браслет', 'xiaomi', 'mi', 'лидер',\n",
    "                'в', 'линейке','rubikor', 'xiaomi.', 'фитнес', 'браслет', 'для', 'android', '4.4,', 'ios', '7,',\n",
    "                'экран', 'oled.', 'лучший', 'выбор', 'xiaomi','браслет', 'huawei', 'honor', 'band', '3.'\n",
    "                , 'фитнес', 'браслет', 'влагозащищенный', 'сенсорный', 'экран', 'android,', 'ios', 'мониторинг', 'сна',\n",
    "                'браслет', 'samsung', 'gear', 'fit2', 'pro.', 'влагозащищенный', 'сенсорный', 'amoled-экран', 'мониторинг',\n",
    "                'сна,','калорий,', 'новинка', 'samsung','my lor'\n",
    "]\n",
    "list_r=[]\n",
    "for el in descriptions:\n",
    "    if el[len(el)-1]=='r':\n",
    "        list_r.append(el)\n",
    "list_r"
   ]
  },
  {
   "cell_type": "markdown",
   "metadata": {},
   "source": [
    "1. 3 Сгенерируйте и выведите cлучайную строку размером 6 символов, содержащую только цифры. Строка должна содержать хотя\n",
    "бы одну цифру 3."
   ]
  },
  {
   "cell_type": "code",
   "execution_count": 19,
   "metadata": {},
   "outputs": [
    {
     "data": {
      "text/plain": [
       "'753544'"
      ]
     },
     "execution_count": 19,
     "metadata": {},
     "output_type": "execute_result"
    }
   ],
   "source": [
    "import random\n",
    "string=''\n",
    "for el in range(6):\n",
    "    if el!=2:\n",
    "        string=string + str(random.randint(0, 9))\n",
    "    else:\n",
    "        string=string + str(3)\n",
    "string"
   ]
  },
  {
   "cell_type": "markdown",
   "metadata": {},
   "source": [
    "1.4 Пусть дана строка произвольной длины. Выведите информацию о том, сколько в ней символов и сколько слов."
   ]
  },
  {
   "cell_type": "code",
   "execution_count": 36,
   "metadata": {},
   "outputs": [
    {
     "name": "stdout",
     "output_type": "stream",
     "text": [
      "62\n",
      "10\n"
     ]
    }
   ],
   "source": [
    "long_phrase = 'Насколько проще было бы писать программы, если бы не заказчики'\n",
    "print(len(long_phrase))\n",
    "print(len(long_phrase.split(' ')))"
   ]
  },
  {
   "cell_type": "markdown",
   "metadata": {},
   "source": [
    "Матрицы-следующее за списками и строками важное понятие. Широко используется в линейной алгебре. Находит свое\n",
    "применение в современных рекомендательных системах и архитектуре нейронных сетей:"
   ]
  },
  {
   "cell_type": "markdown",
   "metadata": {},
   "source": [
    "2.1 Пусть дана матрица чисел размером NхN. Представьте данную матрицу в виде списка. Выведите результат сложения всех элементов\n",
    "матрицы."
   ]
  },
  {
   "cell_type": "code",
   "execution_count": 73,
   "metadata": {},
   "outputs": [
    {
     "data": {
      "text/plain": [
       "8.799866110889045"
      ]
     },
     "execution_count": 73,
     "metadata": {},
     "output_type": "execute_result"
    }
   ],
   "source": [
    "import numpy as np\n",
    "mat=np.random.rand(4,5)\n",
    "list_=[]\n",
    "list_=mat.tolist()\n",
    "count=[]\n",
    "for mas in list_:\n",
    "    for el in mas:\n",
    "        count.append(el)\n",
    "count\n",
    "sum(count)"
   ]
  },
  {
   "cell_type": "markdown",
   "metadata": {},
   "source": [
    "2.2 Дана матрица размером NxM. Напишите алгоритм вычисления максимума из сумм элементов каждого столбца."
   ]
  },
  {
   "cell_type": "code",
   "execution_count": 78,
   "metadata": {},
   "outputs": [
    {
     "data": {
      "text/plain": [
       "array([[0.13050062, 0.46198318, 0.65980148, 0.80641407, 0.26751098],\n",
       "       [0.28072825, 0.36153129, 0.27853467, 0.48309384, 0.16876123],\n",
       "       [0.59303993, 0.74093231, 0.98975197, 0.73801011, 0.6997269 ],\n",
       "       [0.62064701, 0.71779179, 0.09962885, 0.86472728, 0.13987132]])"
      ]
     },
     "execution_count": 78,
     "metadata": {},
     "output_type": "execute_result"
    }
   ],
   "source": [
    "import numpy as np\n",
    "mat=np.random.rand(4,5)\n",
    "mat"
   ]
  },
  {
   "cell_type": "code",
   "execution_count": 80,
   "metadata": {},
   "outputs": [
    {
     "name": "stdout",
     "output_type": "stream",
     "text": [
      "[0.6206470058507506, 0.7409323099055507, 0.9897519704560069, 0.8647272783224623, 0.6997269024740707]\n"
     ]
    }
   ],
   "source": [
    "row=np.shape(mat)[0]\n",
    "col=np.shape(mat)[1]\n",
    "list_max=[]\n",
    "loc_max=[]\n",
    "c=0\n",
    "r=0\n",
    "while c < col:\n",
    "    while r < row:\n",
    "        loc_max.append(mat[r][c])\n",
    "        r=r+1\n",
    "        if r == row :\n",
    "            list_max.append(max(loc_max))\n",
    "            loc_max=[]\n",
    "    r=0\n",
    "    c=c+1\n",
    "print(list_max)"
   ]
  },
  {
   "cell_type": "markdown",
   "metadata": {},
   "source": [
    "Работа с динамичными структурами важная часть в имплементации вашего кода в продакшн систему:"
   ]
  },
  {
   "cell_type": "markdown",
   "metadata": {},
   "source": [
    "3.1 Пусть список студентов представлен в виде структуры [[No, ФИО, Возраст,Группа],[No, ФИО, Возраст, Группа],[No, ФИО, Возраст, Группа]].\n",
    "Преобразуйте список в словарь вида: {No: [ФИО, Возраст, Группа], No:[....], No: [....]}"
   ]
  },
  {
   "cell_type": "code",
   "execution_count": null,
   "metadata": {},
   "outputs": [],
   "source": [
    "student_list=[[1,'Петров Петр Петрович',19,'ОКД'],[2,'Романов Роман Романович',21,'ОФП']\n",
    "              ,[3,'Кириллов Кирилл Кириллович',20,'САПР'],[3,'Алексеев Алексей Алексевич',24,'ПТУ']]\n",
    "dic={}\n",
    "for el in student_list:\n",
    "    first, *_  = el\n",
    "    dic.setdefault(el[0],_)\n",
    "print(dic)"
   ]
  },
  {
   "cell_type": "markdown",
   "metadata": {},
   "source": [
    "Напишите алгоритм, позволяющий найти запись в словаре из задачи 3.1 (без преобразования словаря обратно в список) по фамилии\n",
    "и изменить в ней номер группы. Фамилию и новый номер группы необходимо ввести с клавиатуры."
   ]
  },
  {
   "cell_type": "code",
   "execution_count": null,
   "metadata": {},
   "outputs": [],
   "source": [
    "def change_group_by_surname(dic_,surname,group):\n",
    "    for key,value in dic_.items():\n",
    "        if surname in value[0]:\n",
    "            dic_[key][2]=group\n",
    "    return dic_"
   ]
  },
  {
   "cell_type": "code",
   "execution_count": null,
   "metadata": {},
   "outputs": [],
   "source": [
    "sur = input() \n",
    "group = input() \n",
    "dic=change_group_by_surname(dic,sur,group)\n",
    "dic\n"
   ]
  },
  {
   "cell_type": "markdown",
   "metadata": {},
   "source": [
    "Напишите алгоритм, позволяющий аналогично задаче 3.2 изменить возраст студента"
   ]
  },
  {
   "cell_type": "code",
   "execution_count": null,
   "metadata": {},
   "outputs": [],
   "source": [
    "def change_group_by_surname(dic_,surname,age):\n",
    "    for key,value in dic_.items():\n",
    "        if surname in value[0]:\n",
    "            dic_[key][1]=age\n",
    "    return dic_"
   ]
  },
  {
   "cell_type": "code",
   "execution_count": null,
   "metadata": {},
   "outputs": [],
   "source": [
    "sur = input() \n",
    "age = input() \n",
    "dic=change_group_by_surname(dic,sur,age)\n",
    "dic"
   ]
  }
 ],
 "metadata": {
  "kernelspec": {
   "display_name": "Python 3",
   "language": "python",
   "name": "python3"
  },
  "language_info": {
   "codemirror_mode": {
    "name": "ipython",
    "version": 3
   },
   "file_extension": ".py",
   "mimetype": "text/x-python",
   "name": "python",
   "nbconvert_exporter": "python",
   "pygments_lexer": "ipython3",
   "version": "3.7.3"
  }
 },
 "nbformat": 4,
 "nbformat_minor": 2
}
