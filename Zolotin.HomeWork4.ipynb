{
 "cells": [
  {
   "cell_type": "markdown",
   "metadata": {},
   "source": [
    "Объедили две задачи в одну, так как относятся к одной функции\n",
    "Задание 1\n",
    "Напишите функцию date_range,\n",
    "которая возвращает список дней между датами start_date и end_date. Даты должны вводиться в формате YYYY-MM-DD.\n",
    "Задание 2\n",
    "Дополните функцию из первого задания проверкой на корректность дат. В случае неверного формата или если start_date > end_date должен возвращаться пустой список."
   ]
  },
  {
   "cell_type": "code",
   "execution_count": 71,
   "metadata": {},
   "outputs": [],
   "source": [
    "import datetime\n",
    "from datetime import datetime,timedelta\n",
    "def date_range(start_date,end_date):\n",
    "    list_of_date=[]\n",
    "    \"\"\"\n",
    "    Проверка на корректность дат\n",
    "    \"\"\"\n",
    "    try:\n",
    "        valid_date = datetime.strptime(start_date, '%Y-%m-%d')\n",
    "    except ValueError:\n",
    "        return list_of_date\n",
    "    try:\n",
    "        valid_date = datetime.strptime(end_date, '%Y-%m-%d')\n",
    "    except ValueError:\n",
    "        return list_of_date\n",
    "    \"\"\"\n",
    "    Проверка на корректность разницы\n",
    "    \"\"\"\n",
    "    if (datetime.strptime(end_date, '%Y-%m-%d')<datetime.strptime(start_date, '%Y-%m-%d')):\n",
    "        return list_of_date\n",
    "    else:\n",
    "        start_date_dt = datetime.strptime(start_date, '%Y-%m-%d')\n",
    "        end_date_dt = datetime.strptime(end_date, '%Y-%m-%d')\n",
    "        while (end_date_dt-timedelta(days=1))>start_date_dt:\n",
    "            start_date_dt=start_date_dt +  timedelta(days=1)\n",
    "            list_of_date.append(start_date_dt.strftime('%Y-%m-%d'))\n",
    "        return list_of_date"
   ]
  },
  {
   "cell_type": "code",
   "execution_count": 72,
   "metadata": {},
   "outputs": [
    {
     "data": {
      "text/plain": [
       "['2019-01-02', '2019-01-03', '2019-01-04']"
      ]
     },
     "execution_count": 72,
     "metadata": {},
     "output_type": "execute_result"
    }
   ],
   "source": [
    "\"\"\"\n",
    "Корректный пример\n",
    "\"\"\"\n",
    "date_range('2019-01-01','2019-01-05')"
   ]
  },
  {
   "cell_type": "code",
   "execution_count": 73,
   "metadata": {},
   "outputs": [
    {
     "data": {
      "text/plain": [
       "[]"
      ]
     },
     "execution_count": 73,
     "metadata": {},
     "output_type": "execute_result"
    }
   ],
   "source": [
    "\"\"\"\n",
    "Не правильный формат даты\n",
    "\"\"\"\n",
    "date_range('2019-0101','2019-01-05')"
   ]
  },
  {
   "cell_type": "code",
   "execution_count": 74,
   "metadata": {},
   "outputs": [
    {
     "data": {
      "text/plain": [
       "[]"
      ]
     },
     "execution_count": 74,
     "metadata": {},
     "output_type": "execute_result"
    }
   ],
   "source": [
    "\"\"\"\n",
    "Отрицательная разница\n",
    "\"\"\"\n",
    "date_range('2019-01-07','2019-01-05')"
   ]
  },
  {
   "cell_type": "markdown",
   "metadata": {},
   "source": [
    "Задание 3\n",
    "Дан поток дат в формате YYYY-MM-DD, в которых встречаются некорректные значения:\n",
    "stream = ['2018-04-02', '2018-02-29', '2018-19-02']\n",
    "Напишите функцию, которая проверяет эти даты на корректность.\n",
    "Т. е. для каждой даты возвращает True (дата корректна) или False (некорректная дата)."
   ]
  },
  {
   "cell_type": "code",
   "execution_count": 80,
   "metadata": {},
   "outputs": [],
   "source": [
    "import datetime\n",
    "from datetime import datetime\n",
    "def check_date(list_of_date):\n",
    "    for el in list_of_date:  \n",
    "        try:\n",
    "            valid_date = datetime.strptime(el, '%Y-%m-%d')\n",
    "            print('Дата {0},корректна True'.format(el))\n",
    "        except ValueError:\n",
    "            print('Дата {0},не корректна False'.format(el))"
   ]
  },
  {
   "cell_type": "code",
   "execution_count": 81,
   "metadata": {},
   "outputs": [
    {
     "name": "stdout",
     "output_type": "stream",
     "text": [
      "Дата 2018-04-02,корректна True\n",
      "Дата 2018-02-29,не корректна False\n",
      "Дата 2018-19-02,не корректна False\n"
     ]
    }
   ],
   "source": [
    "stream = ['2018-04-02', '2018-02-29', '2018-19-02'] \n",
    "check_date(stream)"
   ]
  },
  {
   "cell_type": "markdown",
   "metadata": {},
   "source": [
    "Задание 4\n",
    "Напишите функцию, которая возвращает список дат с 1 по вчерашний день текущего месяца.\n",
    "Если дан 1 день месяца, то возвращается список дней прошлого месяца."
   ]
  },
  {
   "cell_type": "code",
   "execution_count": 109,
   "metadata": {},
   "outputs": [],
   "source": [
    "import datetime\n",
    "from datetime import datetime,timedelta\n",
    "def past_days_of_the_month(date):\n",
    "    list_of_date=[]\n",
    "    date_datetime = datetime.strptime(date, '%Y-%m-%d')\n",
    "    if (date_datetime.day==1):\n",
    "        previous_month = datetime(date_datetime.year, date_datetime.month-1, 1)\n",
    "        while  previous_month<date_datetime:\n",
    "            list_of_date.append(previous_month.strftime('%Y-%m-%d'))\n",
    "            previous_month=previous_month+timedelta(days=1)\n",
    "        return list_of_date\n",
    "    else:\n",
    "        previous_month = datetime(date_datetime.year, date_datetime.month, 1)\n",
    "        while  previous_month<date_datetime:\n",
    "            list_of_date.append(previous_month.strftime('%Y-%m-%d'))\n",
    "            previous_month=previous_month+timedelta(days=1)\n",
    "    return list_of_date"
   ]
  },
  {
   "cell_type": "code",
   "execution_count": 110,
   "metadata": {},
   "outputs": [
    {
     "data": {
      "text/plain": [
       "['2018-01-01',\n",
       " '2018-01-02',\n",
       " '2018-01-03',\n",
       " '2018-01-04',\n",
       " '2018-01-05',\n",
       " '2018-01-06',\n",
       " '2018-01-07',\n",
       " '2018-01-08',\n",
       " '2018-01-09',\n",
       " '2018-01-10',\n",
       " '2018-01-11',\n",
       " '2018-01-12',\n",
       " '2018-01-13',\n",
       " '2018-01-14',\n",
       " '2018-01-15',\n",
       " '2018-01-16',\n",
       " '2018-01-17',\n",
       " '2018-01-18',\n",
       " '2018-01-19',\n",
       " '2018-01-20',\n",
       " '2018-01-21',\n",
       " '2018-01-22',\n",
       " '2018-01-23',\n",
       " '2018-01-24',\n",
       " '2018-01-25',\n",
       " '2018-01-26',\n",
       " '2018-01-27',\n",
       " '2018-01-28',\n",
       " '2018-01-29',\n",
       " '2018-01-30',\n",
       " '2018-01-31']"
      ]
     },
     "execution_count": 110,
     "metadata": {},
     "output_type": "execute_result"
    }
   ],
   "source": [
    "past_days_of_the_month('2018-02-1')"
   ]
  },
  {
   "cell_type": "code",
   "execution_count": 111,
   "metadata": {},
   "outputs": [
    {
     "data": {
      "text/plain": [
       "['2018-02-01',\n",
       " '2018-02-02',\n",
       " '2018-02-03',\n",
       " '2018-02-04',\n",
       " '2018-02-05',\n",
       " '2018-02-06',\n",
       " '2018-02-07',\n",
       " '2018-02-08',\n",
       " '2018-02-09',\n",
       " '2018-02-10',\n",
       " '2018-02-11',\n",
       " '2018-02-12',\n",
       " '2018-02-13',\n",
       " '2018-02-14',\n",
       " '2018-02-15',\n",
       " '2018-02-16',\n",
       " '2018-02-17',\n",
       " '2018-02-18',\n",
       " '2018-02-19',\n",
       " '2018-02-20',\n",
       " '2018-02-21',\n",
       " '2018-02-22',\n",
       " '2018-02-23',\n",
       " '2018-02-24',\n",
       " '2018-02-25',\n",
       " '2018-02-26',\n",
       " '2018-02-27']"
      ]
     },
     "execution_count": 111,
     "metadata": {},
     "output_type": "execute_result"
    }
   ],
   "source": [
    "past_days_of_the_month('2018-02-28')"
   ]
  },
  {
   "cell_type": "code",
   "execution_count": null,
   "metadata": {},
   "outputs": [],
   "source": []
  }
 ],
 "metadata": {
  "kernelspec": {
   "display_name": "Python 3",
   "language": "python",
   "name": "python3"
  },
  "language_info": {
   "codemirror_mode": {
    "name": "ipython",
    "version": 3
   },
   "file_extension": ".py",
   "mimetype": "text/x-python",
   "name": "python",
   "nbconvert_exporter": "python",
   "pygments_lexer": "ipython3",
   "version": "3.7.3"
  }
 },
 "nbformat": 4,
 "nbformat_minor": 2
}
