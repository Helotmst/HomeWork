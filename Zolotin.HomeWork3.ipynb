{
 "cells": [
  {
   "cell_type": "markdown",
   "metadata": {},
   "source": [
    "Задание 1\n",
    "Дан список вида:\n",
    "data = [\n",
    "\t[13, 25, 23, 34],\n",
    "\t[45, 32, 44, 47],\n",
    "\t[12, 33, 23, 95],\n",
    "\t[13, 53, 34, 35],\n",
    "]\n",
    "\n",
    "Напишите функцию, которая возвращает сумму элементов на диагонали. Т. е. 13+32+23+35.\n"
   ]
  },
  {
   "cell_type": "code",
   "execution_count": 4,
   "metadata": {},
   "outputs": [],
   "source": [
    "\"\"\"\n",
    "Метод подсчета по диагонали\n",
    "i - итератор для прохождения по диагонали\n",
    "_sum - суммирует элементы диагонали\n",
    "\"\"\"\n",
    "def diagonal_sum(data):\n",
    "    i=0\n",
    "    _sum=0\n",
    "    for el in data:\n",
    "        _sum+=el[i]\n",
    "        i+=1\n",
    "    return _sum\n"
   ]
  },
  {
   "cell_type": "code",
   "execution_count": 5,
   "metadata": {},
   "outputs": [
    {
     "name": "stdout",
     "output_type": "stream",
     "text": [
      "103\n"
     ]
    }
   ],
   "source": [
    "data = [ [13, 25, 23, 34], [45, 32, 44, 47], [12, 33, 23, 95], [13, 53, 34, 35], ]\n",
    "print(diagonal_sum(data))"
   ]
  },
  {
   "cell_type": "markdown",
   "metadata": {},
   "source": [
    "Задание 2\n",
    "Дан список чисел, часть из которых имеют строковый тип или содержат буквы. \n",
    "Напишите функцию, которая возвращает сумму квадратов элементов, которые могут быть числами.\n",
    "data = [1, '5', 'abc', 20, '2']"
   ]
  },
  {
   "cell_type": "code",
   "execution_count": 37,
   "metadata": {},
   "outputs": [],
   "source": [
    "\"\"\"\n",
    "Метод перебирает все элементы входящего списка\n",
    "проверяет является ли элемент числом, если да\n",
    "то производит возведение в квадрат и суммирование всех чисел\n",
    "\"\"\"\n",
    "def sqrt(data):\n",
    "    _sum=0\n",
    "    for el in data:\n",
    "        if(type(el) == int):\n",
    "            _sum+=el**2     \n",
    "    return _sum                    "
   ]
  },
  {
   "cell_type": "code",
   "execution_count": 38,
   "metadata": {},
   "outputs": [
    {
     "name": "stdout",
     "output_type": "stream",
     "text": [
      "401\n"
     ]
    }
   ],
   "source": [
    "data = [1, '5', 'abc', 20, '2']\n",
    "print(sqrt(data))"
   ]
  },
  {
   "cell_type": "markdown",
   "metadata": {},
   "source": [
    "Задание 3\n",
    "Напишите функцию, которая возвращает название валюты (поле 'Name') с максимальным значением курса с помощью сервиса https://www.cbr-xml-daily.ru/daily_json.js"
   ]
  },
  {
   "cell_type": "code",
   "execution_count": 62,
   "metadata": {},
   "outputs": [],
   "source": [
    "import requests\n",
    "import operator\n",
    "\"\"\"\n",
    "Метод выводящий максимальный курс валют\n",
    "1) получает json по следующему адресуhttps://www.cbr-xml-daily.ru/daily_json.js\n",
    "2) Парсит json в словарь элементами которого служат Name - ключ, Value - значение, курс валюты\n",
    "3) производит поиск элемента с максимальным значением\n",
    "4) возварщает наименование\n",
    "\"\"\"\n",
    "def max_currency():\n",
    "    r=requests.get('https://www.cbr-xml-daily.ru/daily_json.js')\n",
    "    dic = r.json()['Valute']\n",
    "    new_dic={}\n",
    "    for key,value in dic.items():\n",
    "        new_dic.setdefault(value['Name'],value['Value'])\n",
    "    max_key = max(new_dic, key=lambda k: new_dic[k])\n",
    "    return max_key   "
   ]
  },
  {
   "cell_type": "code",
   "execution_count": 63,
   "metadata": {},
   "outputs": [
    {
     "name": "stdout",
     "output_type": "stream",
     "text": [
      "Датских крон\n"
     ]
    }
   ],
   "source": [
    "currency = max_currency()\n",
    "print(currency)"
   ]
  },
  {
   "cell_type": "markdown",
   "metadata": {},
   "source": [
    "Задание 4\n",
    "Последнее упражнение с занятия\n",
    "1. Добавьте в класс еще один формат, который возвращает название валюты (например, 'Евро').\n",
    "\n",
    "2. Добавьте в класс параметр diff (со значениями True или False),\n",
    " который в случае значения True в методах eur и usd будет возвращать не курс валюты, а изменение по сравнению в прошлым значением."
   ]
  },
  {
   "cell_type": "code",
   "execution_count": 65,
   "metadata": {},
   "outputs": [],
   "source": [
    "import requests\n",
    "class Rate:\n",
    "    def __init__(self, format='value'):\n",
    "        self.format = format\n",
    "    \n",
    "    def exchange_rates(self):\n",
    "        \"\"\"\n",
    "        Возвращает ответ сервиса с информацией о валютах в виде:\n",
    "        \n",
    "        {\n",
    "            'AMD': {\n",
    "                'CharCode': 'AMD',\n",
    "                'ID': 'R01060',\n",
    "                'Name': 'Армянских драмов',\n",
    "                'Nominal': 100,\n",
    "                'NumCode': '051',\n",
    "                'Previous': 14.103,\n",
    "                'Value': 14.0879\n",
    "                },\n",
    "            ...\n",
    "        }\n",
    "        \"\"\"\n",
    "        r = requests.get('https://www.cbr-xml-daily.ru/daily_json.js')\n",
    "        return r.json()['Valute']\n",
    "    \n",
    "    def make_format(self, currency,mode=False):\n",
    "        \"\"\"\n",
    "        Метод работает в двух режимах:\n",
    "        1) В случае mode = True \n",
    "        Возвращает изменение по сравнению в прошлым значением\n",
    "        2) В случае mode = False\n",
    "        Возвращает информацию о валюте currency в трех вариантах:\n",
    "        - полная информация о валюте при self.format = 'full':\n",
    "        Rate('full').make_format('EUR')\n",
    "        {\n",
    "            'CharCode': 'EUR',\n",
    "            'ID': 'R01239',\n",
    "            'Name': 'Евро',\n",
    "            'Nominal': 1,\n",
    "            'NumCode': '978',\n",
    "            'Previous': 79.6765,\n",
    "            'Value': 79.4966\n",
    "        }\n",
    "        -\n",
    "        Rate('value').make_format('EUR')\n",
    "        79.4966\n",
    "        - информация о текущем курсе валюты при self.format = 'Value':\n",
    "        81.7198\n",
    "        - информация о наименовании курса валюты при self.format = 'Name':\n",
    "        Фунт стерлингов Соединенного королевства\n",
    "        \n",
    "        \"\"\"\n",
    "        response = self.exchange_rates()\n",
    "        if(mode):\n",
    "            return response[currency]['Value']-response[currency]['Previous']\n",
    "        else:\n",
    "            if currency in response:\n",
    "                if self.format == 'full':\n",
    "                    return response[currency]\n",
    "                    \n",
    "                if self.format == 'value':\n",
    "                    return response[currency]['Value']\n",
    "                    \n",
    "                if self.format == 'Name':\n",
    "                     return response[currency]['Name']\n",
    "        \n",
    "        return 'Error'   \n",
    "    \"\"\"\n",
    "    Метод изменяет формат представления валюты\n",
    "    \"\"\" \n",
    "    def change_format(self, format):\n",
    "            self.format=format"
   ]
  },
  {
   "cell_type": "code",
   "execution_count": 67,
   "metadata": {},
   "outputs": [
    {
     "name": "stdout",
     "output_type": "stream",
     "text": [
      "{'ID': 'R01035', 'NumCode': '826', 'CharCode': 'GBP', 'Nominal': 1, 'Name': 'Фунт стерлингов Соединенного королевства', 'Value': 81.7198, 'Previous': 81.9848}\n",
      "0.07580000000000098\n",
      "0.04470000000000596\n",
      "81.7198\n",
      "0.07580000000000098\n",
      "0.04470000000000596\n",
      "Фунт стерлингов Соединенного королевства\n",
      "0.07580000000000098\n",
      "0.04470000000000596\n"
     ]
    }
   ],
   "source": [
    "curr = Rate('full')\n",
    "print(curr.make_format('GBP',False))\n",
    "print(curr.make_format('USD',True))\n",
    "print(curr.make_format('AZN',True))\n",
    "curr.change_format('value')\n",
    "print(curr.make_format('GBP',False))\n",
    "print(curr.make_format('USD',True))\n",
    "print(curr.make_format('AZN',True))\n",
    "curr.change_format('Name')\n",
    "print(curr.make_format('GBP',False))\n",
    "print(curr.make_format('USD',True))\n",
    "print(curr.make_format('AZN',True))"
   ]
  },
  {
   "cell_type": "markdown",
   "metadata": {},
   "source": [
    "Задание 5\n",
    "Напишите функцию, возвращающую сумму первых n чисел Фибоначчи"
   ]
  },
  {
   "cell_type": "code",
   "execution_count": 32,
   "metadata": {},
   "outputs": [],
   "source": [
    "def fib(F0,F1,i,n,_sum):\n",
    "    if(n>=3):        \n",
    "        if i<=n:\n",
    "            Fn=F0+F1\n",
    "            _sum += Fn\n",
    "            i+=1\n",
    "            return fib(F1,Fn,i,n,_sum)\n",
    "            \n",
    "        else:\n",
    "            return _sum\n",
    "    else:\n",
    "        return _sum"
   ]
  },
  {
   "cell_type": "code",
   "execution_count": 33,
   "metadata": {},
   "outputs": [
    {
     "name": "stdout",
     "output_type": "stream",
     "text": [
      "33\n"
     ]
    }
   ],
   "source": [
    "print(fib(0,1,2,7,1))"
   ]
  },
  {
   "cell_type": "markdown",
   "metadata": {},
   "source": [
    "Задание 6\n",
    "Напишите функцию, преобразующую произвольный список вида ['2018-01-01', 'yandex', 'cpc', 100] \n",
    "в словарь {'2018-01-01': {'yandex': {'cpc': 100}}}"
   ]
  },
  {
   "cell_type": "code",
   "execution_count": 37,
   "metadata": {},
   "outputs": [],
   "source": [
    "def trans(count,_list,_dic,_dic2):    \n",
    "    if(count>2):        \n",
    "        _dic2.setdefault(_list[count-3],_dic)\n",
    "        _dic=_dic2.copy()\n",
    "        print(_dic2)\n",
    "        count-=1\n",
    "        print(count)\n",
    "        return trans(count,_list,_dic,{})      \n",
    "    else:\n",
    "         return _dic2        "
   ]
  },
  {
   "cell_type": "code",
   "execution_count": 38,
   "metadata": {},
   "outputs": [
    {
     "name": "stdout",
     "output_type": "stream",
     "text": [
      "{100: {'f': 'y'}}\n",
      "5\n",
      "{'cpc': {100: {'f': 'y'}}}\n",
      "4\n",
      "{'yandex': {'cpc': {100: {'f': 'y'}}}}\n",
      "3\n",
      "{'2018-01-01': {'yandex': {'cpc': {100: {'f': 'y'}}}}}\n",
      "2\n"
     ]
    },
    {
     "data": {
      "text/plain": [
       "{}"
      ]
     },
     "execution_count": 38,
     "metadata": {},
     "output_type": "execute_result"
    }
   ],
   "source": [
    "l=['2018-01-01', 'yandex', 'cpc', 100,'f','y']\n",
    "c= len(l)\n",
    "d={}\n",
    "d1={}\n",
    "d.setdefault(l[len(l)-2],l[len(l)-1])\n",
    "trans(len(l),l,d,d1)"
   ]
  },
  {
   "cell_type": "code",
   "execution_count": null,
   "metadata": {},
   "outputs": [],
   "source": []
  },
  {
   "cell_type": "code",
   "execution_count": null,
   "metadata": {},
   "outputs": [],
   "source": []
  }
 ],
 "metadata": {
  "kernelspec": {
   "display_name": "Python 3",
   "language": "python",
   "name": "python3"
  },
  "language_info": {
   "codemirror_mode": {
    "name": "ipython",
    "version": 3
   },
   "file_extension": ".py",
   "mimetype": "text/x-python",
   "name": "python",
   "nbconvert_exporter": "python",
   "pygments_lexer": "ipython3",
   "version": "3.7.3"
  }
 },
 "nbformat": 4,
 "nbformat_minor": 2
}
