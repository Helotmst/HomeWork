{
 "cells": [
  {
   "cell_type": "markdown",
   "metadata": {},
   "source": [
    "*Задание 1*\n",
    "Дан список с визитами по городам и странам. Напишите код, который возвращает отфильтрованный список geo_logs, \n",
    "содержащий только визиты из России. Считайте, что список geo_logs легко помещается в оперативной памяти."
   ]
  },
  {
   "cell_type": "code",
   "execution_count": 86,
   "metadata": {},
   "outputs": [
    {
     "name": "stdout",
     "output_type": "stream",
     "text": [
      "('visit1', ['Москва', 'Россия'])\n",
      "('visit3', ['Владимир', 'Россия'])\n",
      "('visit7', ['Тула', 'Россия'])\n",
      "('visit8', ['Тула', 'Россия'])\n",
      "('visit9', ['Курск', 'Россия'])\n",
      "('visit10', ['Архангельск', 'Россия'])\n"
     ]
    }
   ],
   "source": [
    "geo_logs = [\n",
    "{'visit1': ['Москва', 'Россия']},\n",
    "{'visit2': ['Дели', 'Индия']},\n",
    "{'visit3': ['Владимир', 'Россия']},\n",
    "{'visit4': ['Лиссабон', 'Португалия']},\n",
    "{'visit5': ['Париж', 'Франция']},\n",
    "{'visit6': ['Лиссабон', 'Португалия']},\n",
    "{'visit7': ['Тула', 'Россия']},\n",
    "{'visit8': ['Тула', 'Россия']},\n",
    "{'visit9': ['Курск', 'Россия']},\n",
    "{'visit10': ['Архангельск', 'Россия']},\n",
    "] \n",
    "visitRus = {}\n",
    "for el in geo_logs:\n",
    "    for key,value in el.items():\n",
    "        if value[1]=='Россия':\n",
    "            visitRus[key]=value\n",
    "for el in visitRus.items():\n",
    "    print (el)"
   ]
  },
  {
   "cell_type": "markdown",
   "metadata": {},
   "source": [
    "Задание 2\n",
    "Выведите на экран все уникальные гео-ID из значений словаря ids. Т. е. список вида [213, 15, 54, 119, 98, 35]\n",
    "ids = {'user1': [213, 213, 213, 15, 213], 'user2': [54, 54, 119, 119, 119], 'user3': [213, 98, 98, 35]}"
   ]
  },
  {
   "cell_type": "code",
   "execution_count": 7,
   "metadata": {},
   "outputs": [
    {
     "data": {
      "text/plain": [
       "{15, 35, 54, 98, 119, 213}"
      ]
     },
     "execution_count": 7,
     "metadata": {},
     "output_type": "execute_result"
    }
   ],
   "source": [
    "list_id=[] \"\"\"Список идентификаторов\"\"\"\n",
    "ids = {'user1': [213, 213, 213, 15, 213], 'user2': [54, 54, 119, 119, 119], 'user3': [213, 98, 98, 35]}\n",
    "for value in ids.values():\n",
    "    for el in value: \n",
    "        list_id.append(el) \n",
    "set(list_id)"
   ]
  },
  {
   "cell_type": "markdown",
   "metadata": {},
   "source": [
    "Задание 3\n",
    "Список поисковых запросов. Получить распределение количества слов в них. Т. е. поисковых запросов из одного слова 5%, из двух - 7%, из трех - 3% итд.\n",
    "queries = [\n",
    "\t'смотреть сериалы онлайн',\n",
    "\t'новости спорта',\n",
    "\t'афиша кино',\n",
    "\t'курс доллара',\n",
    "\t'сериалы этим летом',\n",
    "\t'курс по питону',\n",
    "\t'сериалы про спорт',\n",
    "]"
   ]
  },
  {
   "cell_type": "code",
   "execution_count": 29,
   "metadata": {},
   "outputs": [
    {
     "name": "stdout",
     "output_type": "stream",
     "text": [
      "Запросов из 3 слов: 0.5%\n",
      "Запросов из 2 слов: 0.375%\n",
      "Запросов из 1 слов: 0.125%\n"
     ]
    }
   ],
   "source": [
    "\"\"\"В исходный список добавил запрос из одного слова, для проверки алгоритма\"\"\"\n",
    "queries = [ 'смотреть сериалы онлайн', 'новости спорта', 'афиша кино'\n",
    "           , 'курс доллара', 'сериалы этим летом', 'курс по питону', 'сериалы про спорт','Розы' ]\n",
    "\n",
    "\"\"\"Словарь запросов, ключ - слов в запросе, значение - общее количество запросов\"\"\"\n",
    "word_count_in_query = {} \n",
    "\n",
    "\"\"\"Заполнение словаря\"\"\"\n",
    "for value in queries:\n",
    "    word_count_in_query.setdefault(len(value.split(' ')),0)\n",
    "    word_count_in_query[len(value.split(' '))]+=1\n",
    "\n",
    "\"\"\"Вывод распределения\"\"\"\n",
    "for key,value in word_count_in_query.items():\n",
    "    print('Запросов из {0} слов: {1}%'.format(key,value/len(queries)))"
   ]
  },
  {
   "cell_type": "markdown",
   "metadata": {},
   "source": [
    "Задание 4\n",
    "Дана статистика рекламных каналов по объемам продаж. Напишите скрипт, который возвращает название канала с максимальным объемом.\n",
    "Т. е. в данном примере скрипт должен возвращать 'yandex'.\n",
    "stats = {'facebook': 55, 'yandex': 120, 'vk': 115, 'google': 99, 'email': 42, 'ok': 98}"
   ]
  },
  {
   "cell_type": "code",
   "execution_count": 52,
   "metadata": {},
   "outputs": [
    {
     "data": {
      "text/plain": [
       "'yandex'"
      ]
     },
     "execution_count": 52,
     "metadata": {},
     "output_type": "execute_result"
    }
   ],
   "source": [
    "import operator\n",
    "stats = {'facebook': 55, 'yandex': 120, 'vk': 115, 'google': 99, 'email': 42, 'ok': 98}\n",
    "max(stats.items(), key=operator.itemgetter(1))[0]"
   ]
  },
  {
   "cell_type": "markdown",
   "metadata": {},
   "source": [
    "Задание 5\n",
    "Дан поток логов по количеству просмотренных страниц для каждого пользователя.\n",
    " Список отсортирован по ID пользователя.\n",
    " Вам необходимо написать алгоритм, который считает среднее значение просмотров на пользователя.\n",
    " Т. е. надо посчитать отношение суммы всех просмотров к количеству уникальных пользователей.\n",
    " Учтите, что весь список stream не помещается в оперативную память, т. е. его нужно обрабатывать поэлементно в цикле.\n",
    "stream = [\n",
    "\t'2018-01-01,user1,3',\n",
    "\t'2018-01-07,user1,4',\n",
    "\t'2018-03-29,user1,1',\n",
    "\t'2018-04-04,user1,13',\n",
    "\t'2018-01-05,user2,7',\n",
    "\t'2018-06-14,user3,4',\n",
    "\t'2018-07-02,user3,10',\n",
    "\t'2018-03-21,user4,19',\n",
    "\t'2018-03-22,user4,4',\n",
    "\t'2018-04-22,user4,8',\n",
    "\t'2018-05-03,user4,9',\n",
    "\t'2018-05-11,user4,11',\n",
    "]"
   ]
  },
  {
   "cell_type": "code",
   "execution_count": 9,
   "metadata": {},
   "outputs": [
    {
     "name": "stdout",
     "output_type": "stream",
     "text": [
      "Среднее количество просмотров на одного пользователя:23.25\n"
     ]
    }
   ],
   "source": [
    "stream = [ '2018-01-01,user1,3', '2018-01-07,user1,4', '2018-03-29,user1,1', '2018-04-04,user1,13', '2018-01-05,user2,7'\n",
    "          , '2018-06-14,user3,4', '2018-07-02,user3,10', '2018-03-21,user4,19', '2018-03-22,user4,4', '2018-04-22,user4,8'\n",
    "          , '2018-05-03,user4,9', '2018-05-11,user4,11', ]\n",
    "\"\"\"Список пользователей\"\"\"\n",
    "user_list={}\n",
    "\"\"\"Количество просмотров\"\"\"\n",
    "count_views=0\n",
    "for el in stream:\n",
    "    user_counter.setdefault(el.split(',')[1],0)\n",
    "    count_views+=int(el.split(',')[2])\n",
    "print('Среднее количество просмотров на одного пользователя:{0}'.format(str(count_views/len(user_counter))))"
   ]
  },
  {
   "cell_type": "markdown",
   "metadata": {},
   "source": [
    "Задание 6\n",
    "Дана статистика рекламных кампаний по дням.\n",
    " Напишите алгоритм, который по паре дата-кампания ищет значение численного столбца.\n",
    " Т. е. для даты '2018-01-01' и 'google' нужно получить число 25.\n",
    " Считайте, что все комбинации дата-кампания уникальны, а список stats легко помещается в оперативной памяти.\n",
    "stats = [\n",
    "\t['2018-01-01', 'google', 25],\n",
    "\t['2018-01-01', 'yandex', 65],\n",
    "\t['2018-01-01', 'market', 89],\n",
    "\t['2018-01-02', 'google', 574],\n",
    "\t['2018-01-02', 'yandex', 249],\n",
    "\t['2018-01-02', 'market', 994],\n",
    "\t['2018-01-03', 'google', 1843],\n",
    "\t['2018-01-03', 'yandex', 1327],\n",
    "\t['2018-01-03', 'market', 1764],\n",
    "]"
   ]
  },
  {
   "cell_type": "code",
   "execution_count": 11,
   "metadata": {},
   "outputs": [
    {
     "data": {
      "text/plain": [
       "25"
      ]
     },
     "execution_count": 11,
     "metadata": {},
     "output_type": "execute_result"
    }
   ],
   "source": [
    "stats = [\n",
    "['2018-01-01', 'google', 25],\n",
    "['2018-01-01', 'yandex', 65],\n",
    "['2018-01-01', 'market', 89],\n",
    "['2018-01-02', 'google', 574],\n",
    "['2018-01-02', 'yandex', 249],\n",
    "['2018-01-02', 'market', 994],\n",
    "['2018-01-03', 'google', 1843],\n",
    "['2018-01-03', 'yandex', 1327],\n",
    "['2018-01-03', 'market', 1764],\n",
    "]\n",
    "\"\"\"Словарь в котором дата+компания ключ, значение - значение численного столбца\"\"\"\n",
    "advertising_company={}\n",
    "for el in stats:\n",
    "    advertising_company.setdefault(el[0]+el[1],el[2])\n",
    "advertising_company['2018-01-01'+'google']"
   ]
  },
  {
   "cell_type": "code",
   "execution_count": null,
   "metadata": {},
   "outputs": [],
   "source": []
  }
 ],
 "metadata": {
  "kernelspec": {
   "display_name": "Python 3",
   "language": "python",
   "name": "python3"
  },
  "language_info": {
   "codemirror_mode": {
    "name": "ipython",
    "version": 3
   },
   "file_extension": ".py",
   "mimetype": "text/x-python",
   "name": "python",
   "nbconvert_exporter": "python",
   "pygments_lexer": "ipython3",
   "version": "3.7.3"
  }
 },
 "nbformat": 4,
 "nbformat_minor": 2
}
